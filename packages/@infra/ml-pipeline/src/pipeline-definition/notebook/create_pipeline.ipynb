{
 "cells": [
  {
   "cell_type": "code",
   "execution_count": null,
   "metadata": {},
   "outputs": [],
   "source": [
    "import boto3\n",
    "import os\n",
    "\n",
    "from .create_pipeline import create_pipeline\n",
    "\n",
    "region = boto3.Session().region_name\n",
    "\n",
    "# TODO: for testing, set the account_id value to your AWS Account Id\n",
    "account_id = 'XXXXXXXXXXXX'\n",
    "namespace = 'apspe'\n",
    "\n",
    "pipeline_name = os.environ.get('PIPELINE_NAME', f'abalone-pipeline-{account_id}')\n",
    "default_bucket = os.environ.get('MODELS_BUCKET_NAME', f'{namespace}-models-{account_id}-{region}')\n",
    "pipeline_bucket_name = os.environ.get('PIPELINE_BUCKET_NAME', f'{namespace}-ml-pipeline-{account_id}-{region}')\n",
    "processing_image_uri = os.environ.get('TRAINING_IMAGE_URI', f'{account_id}.dkr.ecr.{region}.amazonaws.com/{namespace}-prediction-processing')\n",
    "base_job_prefix = os.environ.get('BASE_JOB_PREFIX', namespace)\n",
    "role = os.environ.get('PIPELINE_ROLE_ARN', f'arn:aws:iam::{account_id}:role/{namespace}-SagemakerPipelineExecutionRole-{region}')\n",
    "\n",
    "# create the pipeline\n",
    "pipeline = create_pipeline(\n",
    "    region,\n",
    "    pipeline_name,\n",
    "    default_bucket,\n",
    "    pipeline_bucket_name,\n",
    "    processing_image_uri,\n",
    "    base_job_prefix,\n",
    "    role,\n",
    ")\n"
   ]
  },
  {
   "cell_type": "code",
   "execution_count": null,
   "metadata": {},
   "outputs": [],
   "source": [
    "# pipeline_inst = pipeline.upsert(role_arn=role)\n",
    "# print(pipeline_inst)"
   ]
  },
  {
   "cell_type": "code",
   "execution_count": null,
   "metadata": {},
   "outputs": [],
   "source": [
    "# get the pipeline's JSON descriptor\n",
    "pipeline.definition()"
   ]
  }
 ],
 "metadata": {
  "language_info": {
   "name": "python"
  },
  "orig_nbformat": 4
 },
 "nbformat": 4,
 "nbformat_minor": 2
}
